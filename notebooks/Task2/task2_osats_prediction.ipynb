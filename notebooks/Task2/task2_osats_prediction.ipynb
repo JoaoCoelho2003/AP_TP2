{
  "cells": [
    {
      "cell_type": "markdown",
      "metadata": {},
      "source": [
        "# Task 2: OSATS Prediction - Multi-Task Classification\n",
        "\n",
        "**Objective:** Predict 8 OSATS criteria scores (0-4) for surgical skill assessment\n",
        "\n",
        "**Model Architecture:** Simplified CNN + LSTM for lightweight computation\n",
        "- Feature extraction with 2D CNN on individual frames\n",
        "- LSTM for temporal modeling across frame sequences\n",
        "- Multi-task head for 8 OSATS criteria prediction\n",
        "\n",
        "**Output:** CSV with VIDEO and 8 OSATS scores (0-4 scale)"
      ]
    },
    {
      "cell_type": "code",
      "execution_count": 20,
      "metadata": {},
      "outputs": [
        {
          "name": "stdout",
          "output_type": "stream",
          "text": [
            "Using device: cpu\n"
          ]
        }
      ],
      "source": [
        "import torch\n",
        "import torch.nn as nn\n",
        "import torch.optim as optim\n",
        "from torch.utils.data import DataLoader, Dataset\n",
        "import torchvision.transforms as transforms\n",
        "import numpy as np\n",
        "import pandas as pd\n",
        "import pickle\n",
        "import cv2\n",
        "from tqdm import tqdm\n",
        "import matplotlib.pyplot as plt\n",
        "from sklearn.metrics import mean_absolute_error, accuracy_score\n",
        "import os\n",
        "from collections import defaultdict\n",
        "import warnings\n",
        "warnings.filterwarnings('ignore')\n",
        "\n",
        "device = torch.device('cuda' if torch.cuda.is_available() else 'cpu')\n",
        "print(f'Using device: {device}')\n",
        "\n",
        "torch.manual_seed(2025)\n",
        "np.random.seed(2025)"
      ]
    },
    {
      "cell_type": "markdown",
      "metadata": {},
      "source": [
        "## Configuration and Constants\n",
        "\n",
        "Setting up the training parameters and OSATS criteria mapping. The model will predict scores from 0-4 for each of the 8 OSATS categories."
      ]
    },
    {
      "cell_type": "code",
      "execution_count": 21,
      "metadata": {},
      "outputs": [
        {
          "name": "stdout",
          "output_type": "stream",
          "text": [
            "Configuration loaded for 8 OSATS criteria\n",
            "Target classes per criterion: 5 (0-4)\n"
          ]
        }
      ],
      "source": [
        "CONFIG = {\n",
        "    'batch_size': 8,\n",
        "    'learning_rate': 0.001,\n",
        "    'num_epochs': 50,\n",
        "    'sequence_length': 16,\n",
        "    'frame_size': (224, 224),\n",
        "    'hidden_dim': 128,\n",
        "    'num_classes': 5,\n",
        "    'num_osats': 8,\n",
        "    'weight_decay': 0.0001,\n",
        "    'patience': 10,\n",
        "    'model_save_path': '../models/task2_osats_model.pth',\n",
        "    'results_path': '../results/task2_predictions.csv'\n",
        "}\n",
        "\n",
        "OSATS_CRITERIA = [\n",
        "    'RESPECT', 'MOTION', 'INSTRUMENT', 'SUTURE',\n",
        "    'FLOW', 'KNOWLEDGE', 'PERFORMANCE', 'FINALQUALITY'\n",
        "]\n",
        "\n",
        "os.makedirs('../models', exist_ok=True)\n",
        "os.makedirs('../results', exist_ok=True)\n",
        "\n",
        "print(f\"Configuration loaded for {CONFIG['num_osats']} OSATS criteria\")\n",
        "print(f\"Target classes per criterion: {CONFIG['num_classes']} (0-4)\")"
      ]
    },
    {
      "cell_type": "markdown",
      "metadata": {},
      "source": [
        "## Data Loading and Preprocessing\n",
        "\n",
        "Loading the preprocessed data and converting OSATS scores from 1-5 scale to 0-4 scale as required by the challenge."
      ]
    },
    {
      "cell_type": "code",
      "execution_count": 22,
      "metadata": {},
      "outputs": [
        {
          "name": "stdout",
          "output_type": "stream",
          "text": [
            "Loaded training data: 4078 sequences\n",
            "Loaded validation data: 2291 sequences\n",
            "Sample OSATS conversion: [1, 1, 1, 1, 1, 1, 1, 1]\n",
            "OSATS criteria: ['RESPECT', 'MOTION', 'INSTRUMENT', 'SUTURE', 'FLOW', 'KNOWLEDGE', 'PERFORMANCE', 'FINALQUALITY']\n"
          ]
        }
      ],
      "source": [
        "with open('../processed_data/aixsuture_processed_data.pkl', 'rb') as f:\n",
        "    data = pickle.load(f)\n",
        "\n",
        "train_data = data['train_data']\n",
        "val_data = data['val_data']\n",
        "config_data = data['config']\n",
        "\n",
        "print(f\"Loaded training data: {len(train_data)} sequences\")\n",
        "print(f\"Loaded validation data: {len(val_data)} sequences\")\n",
        "\n",
        "def convert_osats_scores(osats_data):\n",
        "    converted_scores = []\n",
        "    for criterion in OSATS_CRITERIA:\n",
        "        if criterion in osats_data:\n",
        "            score_1_5 = osats_data[criterion]\n",
        "            score_0_4 = max(0, min(4, int(score_1_5) - 1))\n",
        "            converted_scores.append(score_0_4)\n",
        "        else:\n",
        "            converted_scores.append(0)\n",
        "    return converted_scores\n",
        "\n",
        "sample_osats = train_data[0]['osats_data']\n",
        "sample_converted = convert_osats_scores(sample_osats)\n",
        "print(f\"Sample OSATS conversion: {sample_converted}\")\n",
        "print(f\"OSATS criteria: {OSATS_CRITERIA}\")"
      ]
    },
    {
      "cell_type": "markdown",
      "metadata": {},
      "source": [
        "## Dataset Class for OSATS Multi-Task Learning\n",
        "\n",
        "Custom dataset class that handles video sequences and converts OSATS scores to the required 0-4 scale. Each sample contains a 16-frame sequence and 8 OSATS target scores."
      ]
    },
    {
      "cell_type": "code",
      "execution_count": 23,
      "metadata": {},
      "outputs": [
        {
          "name": "stdout",
          "output_type": "stream",
          "text": [
            "Created datasets - Train: 4078, Val: 2291\n",
            "Batch size: 8\n"
          ]
        }
      ],
      "source": [
        "class OSATSDataset(Dataset):\n",
        "    def __init__(self, data, transform=None, mode='train'):\n",
        "        self.data = data\n",
        "        self.transform = transform\n",
        "        self.mode = mode\n",
        "        \n",
        "    def __len__(self):\n",
        "        return len(self.data)\n",
        "    \n",
        "    def __getitem__(self, idx):\n",
        "        item = self.data[idx]\n",
        "        \n",
        "        if item.get('sequence_type') == 'simulated':\n",
        "            sequence = torch.randn(CONFIG['sequence_length'], 3, \n",
        "                                 CONFIG['frame_size'][0], CONFIG['frame_size'][1])\n",
        "        else:\n",
        "            frames = []\n",
        "            for frame_info in item['sequence_frames']:\n",
        "                try:\n",
        "                    frame = cv2.imread(frame_info['path'])\n",
        "                    frame = cv2.cvtColor(frame, cv2.COLOR_BGR2RGB)\n",
        "                    frame = cv2.resize(frame, CONFIG['frame_size'])\n",
        "                    frame_tensor = torch.from_numpy(frame).float() / 255.0\n",
        "                    frame_tensor = frame_tensor.permute(2, 0, 1)\n",
        "                    frames.append(frame_tensor)\n",
        "                except:\n",
        "                    frame_tensor = torch.randn(3, CONFIG['frame_size'][0], CONFIG['frame_size'][1])\n",
        "                    frames.append(frame_tensor)\n",
        "            \n",
        "            if len(frames) < CONFIG['sequence_length']:\n",
        "                frames.extend([frames[-1]] * (CONFIG['sequence_length'] - len(frames)))\n",
        "            \n",
        "            sequence = torch.stack(frames[:CONFIG['sequence_length']])\n",
        "        \n",
        "        if self.transform:\n",
        "            sequence_list = []\n",
        "            for frame in sequence:\n",
        "                sequence_list.append(self.transform(frame))\n",
        "            sequence = torch.stack(sequence_list)\n",
        "        \n",
        "        osats_scores = convert_osats_scores(item['osats_data'])\n",
        "        osats_tensor = torch.tensor(osats_scores, dtype=torch.long)\n",
        "        \n",
        "        return {\n",
        "            'sequence': sequence,\n",
        "            'osats_scores': osats_tensor,\n",
        "            'video_name': item['video_name'],\n",
        "            'student_id': item['student_id'],\n",
        "            'session': item['session']\n",
        "        }\n",
        "\n",
        "transform = transforms.Compose([\n",
        "    transforms.Normalize(mean=[0.485, 0.456, 0.406], std=[0.229, 0.224, 0.225])\n",
        "])\n",
        "\n",
        "train_dataset = OSATSDataset(train_data, transform=transform, mode='train')\n",
        "val_dataset = OSATSDataset(val_data, transform=transform, mode='val')\n",
        "\n",
        "train_loader = DataLoader(train_dataset, batch_size=CONFIG['batch_size'], \n",
        "                         shuffle=True, num_workers=2, pin_memory=True)\n",
        "val_loader = DataLoader(val_dataset, batch_size=CONFIG['batch_size'], \n",
        "                       shuffle=False, num_workers=2, pin_memory=True)\n",
        "\n",
        "print(f\"Created datasets - Train: {len(train_dataset)}, Val: {len(val_dataset)}\")\n",
        "print(f\"Batch size: {CONFIG['batch_size']}\")"
      ]
    },
    {
      "cell_type": "markdown",
      "metadata": {},
      "source": [
        "## Model Architecture: Lightweight CNN + LSTM\n",
        "\n",
        "Simplified architecture designed for computational efficiency:\n",
        "1. **Feature Extractor**: 2D CNN processes individual frames\n",
        "2. **Temporal Modeling**: LSTM captures temporal dependencies\n",
        "3. **Multi-task Head**: 8 separate classifiers for each OSATS criterion\n",
        "\n",
        "This approach is much lighter than Video Swin Transformer while maintaining effectiveness."
      ]
    },
    {
      "cell_type": "code",
      "execution_count": 24,
      "metadata": {},
      "outputs": [
        {
          "name": "stdout",
          "output_type": "stream",
          "text": [
            "Model created with 232,488 total parameters\n",
            "Trainable parameters: 232,488\n",
            "Model size: ~0.9 MB\n"
          ]
        }
      ],
      "source": [
        "class FeatureExtractor(nn.Module):\n",
        "    def __init__(self, output_dim=128):\n",
        "        super().__init__()\n",
        "        self.conv1 = nn.Conv2d(3, 32, kernel_size=7, stride=4, padding=3)\n",
        "        self.bn1 = nn.BatchNorm2d(32)\n",
        "        self.conv2 = nn.Conv2d(32, 64, kernel_size=3, stride=2, padding=1)\n",
        "        self.bn2 = nn.BatchNorm2d(64)\n",
        "        self.pool = nn.AdaptiveAvgPool2d((1, 1))\n",
        "        self.fc = nn.Linear(64, output_dim)\n",
        "        self.dropout = nn.Dropout(0.2)\n",
        "        \n",
        "    def forward(self, x):\n",
        "        x = torch.relu(self.bn1(self.conv1(x)))\n",
        "        x = torch.relu(self.bn2(self.conv2(x)))\n",
        "        x = self.pool(x)\n",
        "        x = x.view(x.size(0), -1)\n",
        "        x = self.dropout(torch.relu(self.fc(x)))\n",
        "        return x\n",
        "\n",
        "class OSATSModel(nn.Module):\n",
        "    def __init__(self, hidden_dim=128, num_classes=5, num_osats=8):\n",
        "        super().__init__()\n",
        "        self.hidden_dim = hidden_dim\n",
        "        self.num_osats = num_osats\n",
        "        \n",
        "        self.feature_extractor = FeatureExtractor(hidden_dim)\n",
        "        self.lstm = nn.LSTM(hidden_dim, hidden_dim, batch_first=True)\n",
        "        \n",
        "        self.osats_heads = nn.ModuleList([\n",
        "            nn.Sequential(\n",
        "                nn.Linear(hidden_dim, 64),\n",
        "                nn.ReLU(),\n",
        "                nn.Dropout(0.3),\n",
        "                nn.Linear(64, num_classes)\n",
        "            ) for _ in range(num_osats)\n",
        "        ])\n",
        "        \n",
        "    def forward(self, x):\n",
        "        batch_size, seq_len, c, h, w = x.shape\n",
        "        x = x.view(batch_size * seq_len, c, h, w)\n",
        "        \n",
        "        features = self.feature_extractor(x)\n",
        "        features = features.view(batch_size, seq_len, -1)\n",
        "        \n",
        "        lstm_out, _ = self.lstm(features)\n",
        "        final_features = lstm_out[:, -1, :]\n",
        "        \n",
        "        osats_outputs = []\n",
        "        for head in self.osats_heads:\n",
        "            osats_outputs.append(head(final_features))\n",
        "        \n",
        "        return osats_outputs\n",
        "\n",
        "model = OSATSModel(\n",
        "    hidden_dim=CONFIG['hidden_dim'],\n",
        "    num_classes=CONFIG['num_classes'],\n",
        "    num_osats=CONFIG['num_osats']\n",
        ").to(device)\n",
        "\n",
        "total_params = sum(p.numel() for p in model.parameters())\n",
        "trainable_params = sum(p.numel() for p in model.parameters() if p.requires_grad)\n",
        "\n",
        "print(f\"Model created with {total_params:,} total parameters\")\n",
        "print(f\"Trainable parameters: {trainable_params:,}\")\n",
        "print(f\"Model size: ~{total_params * 4 / 1024 / 1024:.1f} MB\")"
      ]
    },
    {
      "cell_type": "markdown",
      "metadata": {},
      "source": [
        "## Training Setup and Loss Function\n",
        "\n",
        "Multi-task learning setup with separate cross-entropy losses for each OSATS criterion. Using Adam optimizer with weight decay for regularization."
      ]
    },
    {
      "cell_type": "code",
      "execution_count": 25,
      "metadata": {},
      "outputs": [
        {
          "name": "stdout",
          "output_type": "stream",
          "text": [
            "Training setup completed\n",
            "Optimizer: Adam (lr=0.001, wd=0.0001)\n",
            "Scheduler: ReduceLROnPlateau\n",
            "Loss: Multi-task CrossEntropy for 8 criteria\n"
          ]
        }
      ],
      "source": [
        "criterion = nn.CrossEntropyLoss()\n",
        "optimizer = optim.Adam(model.parameters(), \n",
        "                      lr=CONFIG['learning_rate'], \n",
        "                      weight_decay=CONFIG['weight_decay'])\n",
        "scheduler = optim.lr_scheduler.ReduceLROnPlateau(optimizer, 'min', patience=5, factor=0.5)\n",
        "\n",
        "def compute_multi_task_loss(outputs, targets):\n",
        "    total_loss = 0\n",
        "    losses = []\n",
        "    \n",
        "    for i in range(CONFIG['num_osats']):\n",
        "        loss = criterion(outputs[i], targets[:, i])\n",
        "        losses.append(loss.item())\n",
        "        total_loss += loss\n",
        "    \n",
        "    return total_loss, losses\n",
        "\n",
        "def compute_accuracy(outputs, targets):\n",
        "    accuracies = []\n",
        "    \n",
        "    for i in range(CONFIG['num_osats']):\n",
        "        pred = torch.argmax(outputs[i], dim=1)\n",
        "        acc = (pred == targets[:, i]).float().mean().item()\n",
        "        accuracies.append(acc)\n",
        "    \n",
        "    return accuracies\n",
        "\n",
        "print(\"Training setup completed\")\n",
        "print(f\"Optimizer: Adam (lr={CONFIG['learning_rate']}, wd={CONFIG['weight_decay']})\")\n",
        "print(f\"Scheduler: ReduceLROnPlateau\")\n",
        "print(f\"Loss: Multi-task CrossEntropy for {CONFIG['num_osats']} criteria\")"
      ]
    },
    {
      "cell_type": "markdown",
      "metadata": {},
      "source": [
        "## Training Loop\n",
        "\n",
        "Training the model with early stopping based on validation loss. The model learns to predict all 8 OSATS criteria simultaneously through multi-task learning."
      ]
    },
    {
      "cell_type": "code",
      "execution_count": null,
      "metadata": {},
      "outputs": [
        {
          "name": "stdout",
          "output_type": "stream",
          "text": [
            "Starting training for 50 epochs...\n",
            "Early stopping patience: 10\n",
            "\n",
            "Epoch 1/50\n"
          ]
        },
        {
          "name": "stderr",
          "output_type": "stream",
          "text": [
            "Training: 100%|██████████| 510/510 [02:36<00:00,  3.27it/s]\n",
            "Validation: 100%|██████████| 287/287 [00:43<00:00,  6.54it/s]\n"
          ]
        },
        {
          "name": "stdout",
          "output_type": "stream",
          "text": [
            "Train Loss: 7.2449, Val Loss: 31.2916\n",
            "Train Acc: 0.5905, Val Acc: 0.0270\n",
            "✅ New best model saved (val_loss: 31.2916)\n",
            "\n",
            "Epoch 2/50\n"
          ]
        },
        {
          "name": "stderr",
          "output_type": "stream",
          "text": [
            "Training: 100%|██████████| 510/510 [02:42<00:00,  3.13it/s]\n",
            "Validation: 100%|██████████| 287/287 [00:43<00:00,  6.52it/s]\n"
          ]
        },
        {
          "name": "stdout",
          "output_type": "stream",
          "text": [
            "Train Loss: 6.4293, Val Loss: 30.9446\n",
            "Train Acc: 0.6273, Val Acc: 0.0754\n",
            "✅ New best model saved (val_loss: 30.9446)\n",
            "\n",
            "Epoch 3/50\n"
          ]
        },
        {
          "name": "stderr",
          "output_type": "stream",
          "text": [
            "Training: 100%|██████████| 510/510 [02:42<00:00,  3.13it/s]\n",
            "Validation: 100%|██████████| 287/287 [00:45<00:00,  6.34it/s]\n"
          ]
        },
        {
          "name": "stdout",
          "output_type": "stream",
          "text": [
            "Train Loss: 6.3928, Val Loss: 33.8211\n",
            "Train Acc: 0.6293, Val Acc: 0.0703\n",
            "\n",
            "Epoch 4/50\n"
          ]
        },
        {
          "name": "stderr",
          "output_type": "stream",
          "text": [
            "Training: 100%|██████████| 510/510 [02:52<00:00,  2.96it/s]\n",
            "Validation: 100%|██████████| 287/287 [00:45<00:00,  6.33it/s]\n"
          ]
        },
        {
          "name": "stdout",
          "output_type": "stream",
          "text": [
            "Train Loss: 6.0790, Val Loss: 35.7034\n",
            "Train Acc: 0.6473, Val Acc: 0.0483\n",
            "\n",
            "Epoch 5/50\n"
          ]
        },
        {
          "name": "stderr",
          "output_type": "stream",
          "text": [
            "Training: 100%|██████████| 510/510 [02:54<00:00,  2.93it/s]\n",
            "Validation: 100%|██████████| 287/287 [00:46<00:00,  6.24it/s]\n"
          ]
        },
        {
          "name": "stdout",
          "output_type": "stream",
          "text": [
            "Train Loss: 5.4026, Val Loss: 48.1618\n",
            "Train Acc: 0.6789, Val Acc: 0.0450\n",
            "\n",
            "Epoch 6/50\n"
          ]
        },
        {
          "name": "stderr",
          "output_type": "stream",
          "text": [
            "Training: 100%|██████████| 510/510 [02:56<00:00,  2.89it/s]\n",
            "Validation: 100%|██████████| 287/287 [00:46<00:00,  6.22it/s]\n"
          ]
        },
        {
          "name": "stdout",
          "output_type": "stream",
          "text": [
            "Train Loss: 5.1343, Val Loss: 53.1969\n",
            "Train Acc: 0.6970, Val Acc: 0.0438\n",
            "\n",
            "Epoch 7/50\n"
          ]
        },
        {
          "name": "stderr",
          "output_type": "stream",
          "text": [
            "Training: 100%|██████████| 510/510 [02:58<00:00,  2.86it/s]\n",
            "Validation: 100%|██████████| 287/287 [00:46<00:00,  6.23it/s]\n"
          ]
        },
        {
          "name": "stdout",
          "output_type": "stream",
          "text": [
            "Train Loss: 4.8260, Val Loss: 47.4476\n",
            "Train Acc: 0.7190, Val Acc: 0.0542\n",
            "\n",
            "Epoch 8/50\n"
          ]
        },
        {
          "name": "stderr",
          "output_type": "stream",
          "text": [
            "Training: 100%|██████████| 510/510 [02:58<00:00,  2.86it/s]\n",
            "Validation: 100%|██████████| 287/287 [00:45<00:00,  6.37it/s]\n"
          ]
        },
        {
          "name": "stdout",
          "output_type": "stream",
          "text": [
            "Train Loss: 4.3530, Val Loss: 47.6203\n",
            "Train Acc: 0.7505, Val Acc: 0.0946\n",
            "\n",
            "Epoch 9/50\n"
          ]
        },
        {
          "name": "stderr",
          "output_type": "stream",
          "text": [
            "Training: 100%|██████████| 510/510 [03:26<00:00,  2.46it/s]\n",
            "Validation: 100%|██████████| 287/287 [01:08<00:00,  4.18it/s]\n"
          ]
        },
        {
          "name": "stdout",
          "output_type": "stream",
          "text": [
            "Train Loss: 3.5059, Val Loss: 53.5763\n",
            "Train Acc: 0.8080, Val Acc: 0.0997\n",
            "\n",
            "Epoch 10/50\n"
          ]
        },
        {
          "name": "stderr",
          "output_type": "stream",
          "text": [
            "Training: 100%|██████████| 510/510 [03:46<00:00,  2.25it/s]\n",
            "Validation: 100%|██████████| 287/287 [00:47<00:00,  6.04it/s]\n"
          ]
        },
        {
          "name": "stdout",
          "output_type": "stream",
          "text": [
            "Train Loss: 3.1969, Val Loss: 49.6815\n",
            "Train Acc: 0.8261, Val Acc: 0.1805\n",
            "\n",
            "Epoch 11/50\n"
          ]
        },
        {
          "name": "stderr",
          "output_type": "stream",
          "text": [
            "Training: 100%|██████████| 510/510 [03:06<00:00,  2.74it/s]\n",
            "Validation: 100%|██████████| 287/287 [00:46<00:00,  6.16it/s]\n"
          ]
        },
        {
          "name": "stdout",
          "output_type": "stream",
          "text": [
            "Train Loss: 2.8258, Val Loss: 53.6366\n",
            "Train Acc: 0.8454, Val Acc: 0.0904\n",
            "\n",
            "Epoch 12/50\n"
          ]
        },
        {
          "name": "stderr",
          "output_type": "stream",
          "text": [
            "Training: 100%|██████████| 510/510 [03:04<00:00,  2.76it/s]\n",
            "Validation: 100%|██████████| 287/287 [00:46<00:00,  6.12it/s]"
          ]
        },
        {
          "name": "stdout",
          "output_type": "stream",
          "text": [
            "Train Loss: 2.7304, Val Loss: 49.5962\n",
            "Train Acc: 0.8467, Val Acc: 0.2270\n",
            "Early stopping triggered after 12 epochs\n",
            "\n",
            "🎉 Training completed!\n"
          ]
        },
        {
          "name": "stderr",
          "output_type": "stream",
          "text": [
            "\n"
          ]
        }
      ],
      "source": [
        "def train_epoch(model, train_loader, optimizer, device):\n",
        "    model.train()\n",
        "    total_loss = 0\n",
        "    all_losses = [0] * CONFIG['num_osats']\n",
        "    all_accuracies = [0] * CONFIG['num_osats']\n",
        "    num_batches = 0\n",
        "    \n",
        "    for batch in tqdm(train_loader, desc=\"Training\"):\n",
        "        sequences = batch['sequence'].to(device)\n",
        "        targets = batch['osats_scores'].to(device)\n",
        "        \n",
        "        optimizer.zero_grad()\n",
        "        outputs = model(sequences)\n",
        "        \n",
        "        loss, batch_losses = compute_multi_task_loss(outputs, targets)\n",
        "        loss.backward()\n",
        "        optimizer.step()\n",
        "        \n",
        "        total_loss += loss.item()\n",
        "        for i, bl in enumerate(batch_losses):\n",
        "            all_losses[i] += bl\n",
        "        \n",
        "        accuracies = compute_accuracy(outputs, targets)\n",
        "        for i, acc in enumerate(accuracies):\n",
        "            all_accuracies[i] += acc\n",
        "        \n",
        "        num_batches += 1\n",
        "    \n",
        "    avg_loss = total_loss / num_batches\n",
        "    avg_losses = [l / num_batches for l in all_losses]\n",
        "    avg_accuracies = [a / num_batches for a in all_accuracies]\n",
        "    \n",
        "    return avg_loss, avg_losses, avg_accuracies\n",
        "\n",
        "def validate_epoch(model, val_loader, device):\n",
        "    model.eval()\n",
        "    total_loss = 0\n",
        "    all_losses = [0] * CONFIG['num_osats']\n",
        "    all_accuracies = [0] * CONFIG['num_osats']\n",
        "    num_batches = 0\n",
        "    \n",
        "    with torch.no_grad():\n",
        "        for batch in tqdm(val_loader, desc=\"Validation\"):\n",
        "            sequences = batch['sequence'].to(device)\n",
        "            targets = batch['osats_scores'].to(device)\n",
        "            \n",
        "            outputs = model(sequences)\n",
        "            loss, batch_losses = compute_multi_task_loss(outputs, targets)\n",
        "            \n",
        "            total_loss += loss.item()\n",
        "            for i, bl in enumerate(batch_losses):\n",
        "                all_losses[i] += bl\n",
        "            \n",
        "            accuracies = compute_accuracy(outputs, targets)\n",
        "            for i, acc in enumerate(accuracies):\n",
        "                all_accuracies[i] += acc\n",
        "            \n",
        "            num_batches += 1\n",
        "    \n",
        "    avg_loss = total_loss / num_batches\n",
        "    avg_acc = \n",
        "    avg_losses = [l / num_batches for l in all_losses]\n",
        "    avg_accuracies = [a / num_batches for a in all_accuracies]\n",
        "    \n",
        "    return avg_loss, avg_losses, avg_accuracies\n",
        "\n",
        "best_val_loss = float('inf')\n",
        "patience_counter = 0\n",
        "train_losses = []\n",
        "val_losses = []\n",
        "train_accuracies = []\n",
        "val_accuracies = []\n",
        "\n",
        "print(f\"Starting training for {CONFIG['num_epochs']} epochs...\")\n",
        "print(f\"Early stopping patience: {CONFIG['patience']}\")\n",
        "\n",
        "for epoch in range(CONFIG['num_epochs']):\n",
        "    print(f\"\\nEpoch {epoch+1}/{CONFIG['num_epochs']}\")\n",
        "    \n",
        "    train_loss, train_loss_per_task, train_acc_per_task = train_epoch(model, train_loader, optimizer, device)\n",
        "    val_loss, val_loss_per_task, val_acc_per_task = validate_epoch(model, val_loader, device)\n",
        "    \n",
        "    train_losses.append(train_loss)\n",
        "    val_losses.append(val_loss)\n",
        "    train_accuracies.append(train_acc_per_task)\n",
        "    val_accuracies.append(val_acc_per_task)\n",
        "    \n",
        "    scheduler.step(np.mean(val_acc_per_task))\n",
        "    \n",
        "    print(f\"Train Loss: {train_loss:.4f}, Val Loss: {val_loss:.4f}\")\n",
        "    print(f\"Train Acc: {np.mean(train_acc_per_task):.4f}, Val Acc: {np.mean(val_acc_per_task):.4f}\")\n",
        "    \n",
        "    if val_loss < best_val_loss:\n",
        "        best_val_loss = val_loss\n",
        "        patience_counter = 0\n",
        "        torch.save({\n",
        "            'epoch': epoch,\n",
        "            'model_state_dict': model.state_dict(),\n",
        "            'optimizer_state_dict': optimizer.state_dict(),\n",
        "            'val_loss': val_loss,\n",
        "            'config': CONFIG\n",
        "        }, CONFIG['model_save_path'])\n",
        "        print(f\"✅ New best model saved (val_loss: {val_loss:.4f})\")\n",
        "    else:\n",
        "        patience_counter += 1\n",
        "        if patience_counter >= CONFIG['patience']:\n",
        "            print(f\"Early stopping triggered after {epoch+1} epochs\")\n",
        "            break\n",
        "\n",
        "print(\"\\n🎉 Training completed!\")"
      ]
    },
    {
      "cell_type": "markdown",
      "metadata": {},
      "source": [
        "## Model Evaluation and Metrics\n",
        "\n",
        "Evaluating the trained model on validation data and computing detailed metrics for each OSATS criterion."
      ]
    },
    {
      "cell_type": "code",
      "execution_count": 27,
      "metadata": {},
      "outputs": [
        {
          "name": "stdout",
          "output_type": "stream",
          "text": [
            "Loaded best model from epoch 1\n"
          ]
        },
        {
          "name": "stderr",
          "output_type": "stream",
          "text": [
            "Evaluating: 100%|██████████| 287/287 [00:44<00:00,  6.43it/s]\n"
          ]
        },
        {
          "name": "stdout",
          "output_type": "stream",
          "text": [
            "\n",
            "📊 OSATS Prediction Results:\n",
            "==================================================\n",
            "RESPECT     : Acc=0.276, MAE=1.041\n",
            "MOTION      : Acc=0.093, MAE=1.517\n",
            "INSTRUMENT  : Acc=0.038, MAE=1.718\n",
            "SUTURE      : Acc=0.000, MAE=2.394\n",
            "FLOW        : Acc=0.039, MAE=1.644\n",
            "KNOWLEDGE   : Acc=0.000, MAE=2.300\n",
            "PERFORMANCE : Acc=0.022, MAE=1.899\n",
            "FINALQUALITY: Acc=0.132, MAE=1.583\n",
            "==================================================\n",
            "Overall Accuracy: 0.075\n",
            "Overall MAE: 1.762\n"
          ]
        }
      ],
      "source": [
        "checkpoint = torch.load(CONFIG['model_save_path'])\n",
        "model.load_state_dict(checkpoint['model_state_dict'])\n",
        "print(f\"Loaded best model from epoch {checkpoint['epoch']}\")\n",
        "\n",
        "model.eval()\n",
        "all_predictions = []\n",
        "all_targets = []\n",
        "all_video_names = []\n",
        "\n",
        "with torch.no_grad():\n",
        "    for batch in tqdm(val_loader, desc=\"Evaluating\"):\n",
        "        sequences = batch['sequence'].to(device)\n",
        "        targets = batch['osats_scores'].to(device)\n",
        "        video_names = batch['video_name']\n",
        "        \n",
        "        outputs = model(sequences)\n",
        "        \n",
        "        batch_predictions = []\n",
        "        for i in range(CONFIG['num_osats']):\n",
        "            pred = torch.argmax(outputs[i], dim=1).cpu().numpy()\n",
        "            batch_predictions.append(pred)\n",
        "        \n",
        "        batch_predictions = np.array(batch_predictions).T\n",
        "        all_predictions.extend(batch_predictions)\n",
        "        all_targets.extend(targets.cpu().numpy())\n",
        "        all_video_names.extend(video_names)\n",
        "\n",
        "all_predictions = np.array(all_predictions)\n",
        "all_targets = np.array(all_targets)\n",
        "\n",
        "print(\"\\n📊 OSATS Prediction Results:\")\n",
        "print(\"=\" * 50)\n",
        "\n",
        "for i, criterion in enumerate(OSATS_CRITERIA):\n",
        "    acc = accuracy_score(all_targets[:, i], all_predictions[:, i])\n",
        "    mae = mean_absolute_error(all_targets[:, i], all_predictions[:, i])\n",
        "    print(f\"{criterion:12}: Acc={acc:.3f}, MAE={mae:.3f}\")\n",
        "\n",
        "overall_acc = np.mean([accuracy_score(all_targets[:, i], all_predictions[:, i]) \n",
        "                      for i in range(CONFIG['num_osats'])])\n",
        "overall_mae = np.mean([mean_absolute_error(all_targets[:, i], all_predictions[:, i]) \n",
        "                      for i in range(CONFIG['num_osats'])])\n",
        "\n",
        "print(\"=\" * 50)\n",
        "print(f\"Overall Accuracy: {overall_acc:.3f}\")\n",
        "print(f\"Overall MAE: {overall_mae:.3f}\")"
      ]
    },
    {
      "cell_type": "markdown",
      "metadata": {},
      "source": [
        "## Video-Level Prediction Aggregation\n",
        "\n",
        "Aggregating sequence-level predictions to video-level scores as required by the challenge. Multiple sequences from the same video are averaged to produce final OSATS scores."
      ]
    },
    {
      "cell_type": "code",
      "execution_count": 28,
      "metadata": {},
      "outputs": [
        {
          "name": "stdout",
          "output_type": "stream",
          "text": [
            "\n",
            "🎯 Video-Level Results (10 videos):\n",
            "==================================================\n",
            "RESPECT     : Acc=0.200, MAE=1.100\n",
            "MOTION      : Acc=0.100, MAE=1.500\n",
            "INSTRUMENT  : Acc=0.000, MAE=1.700\n",
            "SUTURE      : Acc=0.000, MAE=2.400\n",
            "FLOW        : Acc=0.000, MAE=1.600\n",
            "KNOWLEDGE   : Acc=0.000, MAE=2.300\n",
            "PERFORMANCE : Acc=0.000, MAE=1.800\n",
            "FINALQUALITY: Acc=0.100, MAE=1.600\n",
            "==================================================\n",
            "Video-Level Accuracy: 0.050\n",
            "Video-Level MAE: 1.750\n"
          ]
        }
      ],
      "source": [
        "video_predictions = defaultdict(list)\n",
        "video_targets = defaultdict(list)\n",
        "\n",
        "for i, video_name in enumerate(all_video_names):\n",
        "    video_predictions[video_name].append(all_predictions[i])\n",
        "    video_targets[video_name].append(all_targets[i])\n",
        "\n",
        "final_predictions = []\n",
        "final_targets = []\n",
        "final_video_names = []\n",
        "\n",
        "for video_name in video_predictions.keys():\n",
        "    pred_sequences = np.array(video_predictions[video_name])\n",
        "    target_sequences = np.array(video_targets[video_name])\n",
        "    \n",
        "    avg_pred = np.round(np.mean(pred_sequences, axis=0)).astype(int)\n",
        "    avg_target = np.round(np.mean(target_sequences, axis=0)).astype(int)\n",
        "    \n",
        "    avg_pred = np.clip(avg_pred, 0, 4)\n",
        "    \n",
        "    final_predictions.append(avg_pred)\n",
        "    final_targets.append(avg_target)\n",
        "    final_video_names.append(video_name)\n",
        "\n",
        "final_predictions = np.array(final_predictions)\n",
        "final_targets = np.array(final_targets)\n",
        "\n",
        "print(f\"\\n🎯 Video-Level Results ({len(final_video_names)} videos):\")\n",
        "print(\"=\" * 50)\n",
        "\n",
        "for i, criterion in enumerate(OSATS_CRITERIA):\n",
        "    acc = accuracy_score(final_targets[:, i], final_predictions[:, i])\n",
        "    mae = mean_absolute_error(final_targets[:, i], final_predictions[:, i])\n",
        "    print(f\"{criterion:12}: Acc={acc:.3f}, MAE={mae:.3f}\")\n",
        "\n",
        "video_overall_acc = np.mean([accuracy_score(final_targets[:, i], final_predictions[:, i]) \n",
        "                            for i in range(CONFIG['num_osats'])])\n",
        "video_overall_mae = np.mean([mean_absolute_error(final_targets[:, i], final_predictions[:, i]) \n",
        "                            for i in range(CONFIG['num_osats'])])\n",
        "\n",
        "print(\"=\" * 50)\n",
        "print(f\"Video-Level Accuracy: {video_overall_acc:.3f}\")\n",
        "print(f\"Video-Level MAE: {video_overall_mae:.3f}\")"
      ]
    },
    {
      "cell_type": "markdown",
      "metadata": {},
      "source": [
        "## Generate Final CSV Output\n",
        "\n",
        "Creating the final CSV file in the required format with VIDEO name and 8 OSATS scores (0-4 scale) as specified by the challenge."
      ]
    },
    {
      "cell_type": "code",
      "execution_count": 29,
      "metadata": {},
      "outputs": [
        {
          "name": "stdout",
          "output_type": "stream",
          "text": [
            "\n",
            "💾 Results saved to: ../results/task2_predictions.csv\n",
            "📋 CSV format: VIDEO + 8 OSATS columns (0-4 scale)\n",
            "📊 Total videos: 10\n",
            "\n",
            "📄 Sample output:\n",
            "  VIDEO  OSATS_RESPECT  OSATS_MOTION  OSATS_INSTRUMENT  OSATS_SUTURE  \\\n",
            "1  A41X              2             1                 1             0   \n",
            "0  A61V              1             0                 0             0   \n",
            "6  A83X              2             1                 1             0   \n",
            "9  A88O              2             0                 0             0   \n",
            "7  A99X              2             0                 1             0   \n",
            "\n",
            "   OSATS_FLOW  OSATS_KNOWLEDGE  OSATS_PERFORMANCE  OSATS_FINALQUALITY  \n",
            "1           1                1                  1                   1  \n",
            "0           0                0                  0                   0  \n",
            "6           1                1                  1                   1  \n",
            "9           0                0                  0                   1  \n",
            "7           1                1                  1                   1  \n",
            "\n",
            "📈 OSATS Score Distribution:\n",
            "RESPECT     : {0: 2, 1: 2, 2: 6}\n",
            "MOTION      : {0: 6, 1: 4}\n",
            "INSTRUMENT  : {0: 5, 1: 5}\n",
            "SUTURE      : {0: 10}\n",
            "FLOW        : {0: 5, 1: 5}\n",
            "KNOWLEDGE   : {0: 5, 1: 5}\n",
            "PERFORMANCE : {0: 5, 1: 5}\n",
            "FINALQUALITY: {0: 4, 1: 6}\n",
            "\n",
            "✅ Task 2 OSATS Prediction completed successfully!\n",
            "🎯 Model achieves 5.0% accuracy on video-level predictions\n",
            "📉 Mean Absolute Error: 1.750\n"
          ]
        }
      ],
      "source": [
        "results_df = pd.DataFrame({\n",
        "    'VIDEO': final_video_names\n",
        "})\n",
        "\n",
        "for i, criterion in enumerate(OSATS_CRITERIA):\n",
        "    column_name = f'OSATS_{criterion}'\n",
        "    results_df[column_name] = final_predictions[:, i]\n",
        "\n",
        "results_df = results_df.sort_values('VIDEO')\n",
        "results_df.to_csv(CONFIG['results_path'], index=False)\n",
        "\n",
        "print(f\"\\n💾 Results saved to: {CONFIG['results_path']}\")\n",
        "print(f\"📋 CSV format: VIDEO + 8 OSATS columns (0-4 scale)\")\n",
        "print(f\"📊 Total videos: {len(results_df)}\")\n",
        "\n",
        "print(\"\\n📄 Sample output:\")\n",
        "print(results_df.head())\n",
        "\n",
        "print(\"\\n📈 OSATS Score Distribution:\")\n",
        "for i, criterion in enumerate(OSATS_CRITERIA):\n",
        "    column_name = f'OSATS_{criterion}'\n",
        "    dist = results_df[column_name].value_counts().sort_index()\n",
        "    print(f\"{criterion:12}: {dict(dist)}\")\n",
        "\n",
        "print(\"\\n✅ Task 2 OSATS Prediction completed successfully!\")\n",
        "print(f\"🎯 Model achieves {video_overall_acc:.1%} accuracy on video-level predictions\")\n",
        "print(f\"📉 Mean Absolute Error: {video_overall_mae:.3f}\")"
      ]
    },
    {
      "cell_type": "markdown",
      "metadata": {},
      "source": [
        "## Training Visualization\n",
        "\n",
        "Plotting training curves to visualize model performance over epochs."
      ]
    },
    {
      "cell_type": "code",
      "execution_count": 30,
      "metadata": {},
      "outputs": [
        {
          "data": {
            "image/png": "[encoded data removed]",
            "text/plain": [
              "<Figure size 1500x500 with 3 Axes>"
            ]
          },
          "metadata": {},
          "output_type": "display_data"
        },
        {
          "name": "stdout",
          "output_type": "stream",
          "text": [
            "📊 Training visualization saved to: ../results/task2_training_curves.png\n"
          ]
        }
      ],
      "source": [
        "plt.figure(figsize=(15, 5))\n",
        "\n",
        "plt.subplot(1, 3, 1)\n",
        "plt.plot(train_losses, label='Train Loss')\n",
        "plt.plot(val_losses, label='Val Loss')\n",
        "plt.title('Training Loss')\n",
        "plt.xlabel('Epoch')\n",
        "plt.ylabel('Loss')\n",
        "plt.legend()\n",
        "plt.grid(True)\n",
        "\n",
        "plt.subplot(1, 3, 2)\n",
        "train_acc_avg = [np.mean(acc) for acc in train_accuracies]\n",
        "val_acc_avg = [np.mean(acc) for acc in val_accuracies]\n",
        "plt.plot(train_acc_avg, label='Train Acc')\n",
        "plt.plot(val_acc_avg, label='Val Acc')\n",
        "plt.title('Average Accuracy')\n",
        "plt.xlabel('Epoch')\n",
        "plt.ylabel('Accuracy')\n",
        "plt.legend()\n",
        "plt.grid(True)\n",
        "\n",
        "plt.subplot(1, 3, 3)\n",
        "final_val_acc = val_accuracies[-1] if val_accuracies else [0] * CONFIG['num_osats']\n",
        "plt.bar(range(CONFIG['num_osats']), final_val_acc)\n",
        "plt.title('Final Validation Accuracy by OSATS')\n",
        "plt.xlabel('OSATS Criterion')\n",
        "plt.ylabel('Accuracy')\n",
        "plt.xticks(range(CONFIG['num_osats']), \n",
        "          [c[:4] for c in OSATS_CRITERIA], rotation=45)\n",
        "plt.grid(True, alpha=0.3)\n",
        "\n",
        "plt.tight_layout()\n",
        "plt.savefig('../results/task2_training_curves.png', dpi=300, bbox_inches='tight')\n",
        "plt.show()\n",
        "\n",
        "print(\"📊 Training visualization saved to: ../results/task2_training_curves.png\")"
      ]
    }
  ],
  "metadata": {
    "kernelspec": {
      "display_name": "SI",
      "language": "python",
      "name": "python3"
    },
    "language_info": {
      "codemirror_mode": {
        "name": "ipython",
        "version": 3
      },
      "file_extension": ".py",
      "mimetype": "text/x-python",
      "name": "python",
      "nbconvert_exporter": "python",
      "pygments_lexer": "ipython3",
      "version": "3.12.4"
    }
  },
  "nbformat": 4,
  "nbformat_minor": 4
}
